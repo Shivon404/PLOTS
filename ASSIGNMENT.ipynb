{
 "cells": [
  {
   "cell_type": "markdown",
   "id": "cc0a9eed",
   "metadata": {},
   "source": [
    "## **PLOTS**\n",
    "\n",
    "Siobhan B. Leonor\n",
    "\n",
    "Heather M. Will"
   ]
  },
  {
   "cell_type": "code",
   "execution_count": null,
   "id": "7084c798",
   "metadata": {},
   "outputs": [],
   "source": [
    "import pandas as pd\n",
    "import matplotlib.pyplot as plt\n",
    "import plotly.graph_objects as go\n",
    "import networkx as nx\n",
    "import matplotlib.pyplot as plt\n",
    "from PIL import Image"
   ]
  },
  {
   "cell_type": "markdown",
   "id": "bf2e2d29",
   "metadata": {},
   "source": [
    "## 1. Bar Graph"
   ]
  },
  {
   "cell_type": "code",
   "execution_count": null,
   "id": "bfa8edb1",
   "metadata": {},
   "outputs": [],
   "source": [
    "\n",
    "\n",
    "# Read data\n",
    "bar_data = pd.read_csv('bar_assignment.csv')\n",
    "bar_data['COUNT'] = bar_data['COUNT'].map({1: 'Yes', 0: 'No'})\n",
    "bar_grouped = bar_data.groupby(['LABEL', 'COUNT']).size().unstack(fill_value=0)\n",
    "\n",
    "# Plot\n",
    "bar_grouped.plot(kind='barh', stacked=True)\n",
    "plt.xlabel('Count')\n",
    "plt.ylabel('Label')\n",
    "plt.title('Horizontal Stacked Bar Chart')\n",
    "plt.savefig('bar_chart.png')\n",
    "plt.show()\n"
   ]
  },
  {
   "cell_type": "markdown",
   "id": "ac92c39a",
   "metadata": {},
   "source": [
    "### Output:\n",
    "![1. Bar Graph](bar_chart.png)"
   ]
  },
  {
   "cell_type": "markdown",
   "id": "f6cdb7d6",
   "metadata": {},
   "source": [
    "## 2. Sankey Diagram"
   ]
  },
  {
   "cell_type": "code",
   "execution_count": null,
   "id": "6da3807c",
   "metadata": {},
   "outputs": [],
   "source": [
    "\n",
    "\n",
    "# Read data\n",
    "sankey_data = pd.read_csv('sankey_assignment.csv')\n",
    "df_prep = sankey_data.melt(id_vars=['LABEL'], var_name='source', value_name='value')\n",
    "df_prep.rename(columns={'LABEL': 'target'}, inplace=True)\n",
    "df_prep = df_prep[['source', 'target', 'value']]\n",
    "\n",
    "# Split the data into layers\n",
    "df_temp1 = df_prep[:40]\n",
    "df_temp2 = df_prep[40:]\n",
    "df_temp2 = df_temp2[['target', 'source', 'value']]\n",
    "df_temp2.rename(columns={'target': 'source', 'source': 'target'}, inplace=True)\n",
    "\n",
    "# Combine the layers\n",
    "links = pd.concat([df_temp1, df_temp2], axis=0)\n",
    "unique_source_target = list(pd.unique(links[['source', 'target']].values.ravel('K')))\n",
    "mapping_dict = {k: v for v, k in enumerate(unique_source_target)}\n",
    "links['source'] = links['source'].map(mapping_dict)\n",
    "links['target'] = links['target'].map(mapping_dict)\n",
    "\n",
    "# Convert to dictionary for Plotly\n",
    "links_dict = links.to_dict(orient='list')\n",
    "\n",
    "# Define colors\n",
    "hex_colors = [\"#1f77b4\", \"#ff7f0e\", \"#2ca02c\", \"#d62728\", \"#9467bd\", \"#8c564b\", \"#e377c2\"]\n",
    "node_colors = {node: hex_colors[i % len(hex_colors)] for i, node in enumerate(unique_source_target)}\n",
    "\n",
    "# Plot\n",
    "fig = go.Figure(data=[go.Sankey(\n",
    "   node=dict(\n",
    "        pad=15, thickness=20, line=dict(color='black', width=0.5),\n",
    "        label=unique_source_target,\n",
    "        color=[node_colors[node] for node in unique_source_target],\n",
    "   ),\n",
    "   link=dict(\n",
    "        source=links_dict['source'],\n",
    "        target=links_dict['target'],\n",
    "        value=links_dict['value'],\n",
    "        color=[node_colors[unique_source_target[src]] for src in links_dict['source']]\n",
    "   )\n",
    ")])\n",
    "\n",
    "fig.update_layout(title_text=\"Sankey Diagram with Dynamic Colors\", font_size=10)\n",
    "fig.write_image('sankey_diagram.png')\n",
    "fig.show()\n"
   ]
  },
  {
   "cell_type": "markdown",
   "id": "5d75077f",
   "metadata": {},
   "source": [
    "### Output:\n",
    "![2. Sankey Diagram](sankey_diagram.png)"
   ]
  },
  {
   "cell_type": "markdown",
   "id": "078b2a47",
   "metadata": {},
   "source": [
    "## 3. Network Graph"
   ]
  },
  {
   "cell_type": "code",
   "execution_count": null,
   "id": "423fedd0",
   "metadata": {},
   "outputs": [],
   "source": [
    "network_data = pd.read_csv('networks_assignment.csv')\n",
    "\n",
    "\n",
    "G = nx.Graph()\n",
    "\n",
    "\n",
    "colors = {\n",
    "    'D': 'blue', 'F': 'blue', 'I': 'blue', 'N': 'blue', 'S': 'blue',  # Pentagram nodes\n",
    "    'BIH': 'green', 'GEO': 'green', 'ISR': 'green', 'MNE': 'green', 'SRB': 'green',\n",
    "    'CHE': 'green', 'TUR': 'green', 'UKR': 'green', 'GBR': 'green', 'AUS': 'green',\n",
    "    'HKG': 'green', 'USA': 'green',\n",
    "    'AUT': 'yellow', 'BEL': 'yellow', 'BGR': 'yellow', 'HRV': 'yellow', 'CZE': 'yellow',\n",
    "    'EST': 'yellow', 'FRA': 'yellow', 'DEU': 'yellow', 'GRC': 'yellow', 'HUN': 'yellow',\n",
    "    'IRL': 'yellow', 'ITA': 'yellow', 'LVA': 'yellow', 'LUX': 'yellow', 'NLD': 'yellow',\n",
    "    'PRT': 'yellow', 'ROU': 'yellow', 'SVK': 'yellow', 'SVN': 'yellow', 'ESP': 'yellow',\n",
    "    'ASU': 'green'  \n",
    "}\n",
    "\n",
    "\n",
    "\n",
    "for node, color in colors.items():\n",
    "    G.add_node(node, color=color)\n",
    "\n",
    "\n",
    "for index, row in network_data.iterrows():\n",
    "    label = row['LABELS']\n",
    "    for col in network_data.columns[1:]:\n",
    "        if row[col] > 0:\n",
    "            G.add_edge(label, col, weight=row[col])\n",
    "\n",
    "\n",
    "pos = {\n",
    "    'D': (0, 0.5), 'F': (-0.5, -0.3), 'I': (0.5, -0.3), 'N': (-0.3, -0.8), 'S': (0.3, -0.8),\n",
    "    'BIH': (-1.5, 1), 'GEO': (-1.0, 1.5), 'ISR': (-0.5, 1.8), 'MNE': (0, 2),\n",
    "    'SRB': (0.5, 1.8), 'CHE': (1.0, 1.5), 'TUR': (1.5, 1), 'UKR': (2, 0.5),\n",
    "    'GBR': (2.5, 0), 'AUS': (2, -0.5), 'HKG': (1.5, -1), 'USA': (1, -1.5),\n",
    "    'AUT': (-1.5, -1), 'BEL': (-1.0, -1.5), 'BGR': (-0.5, -1.8), 'HRV': (0, -2),\n",
    "    'CZE': (0.5, -1.8), 'EST': (1.0, -1.5), 'FRA': (1.5, -1), 'DEU': (-2, 0.5),\n",
    "    'GRC': (-2.5, 0), 'HUN': (-2, -0.5), 'IRL': (-1.5, -1), 'ITA': (-1, -1.5),\n",
    "    'LVA': (-0.5, -1.8), 'LUX': (0, -2), 'NLD': (0.5, -1.8), 'PRT': (1, -1.5),\n",
    "    'ROU': (1.5, -1), 'SVK': (2, -0.5), 'SVN': (2.5, 0), 'ESP': (-2.5, 0),\n",
    "    'ASU': (2, 2)  \n",
    "}\n",
    "\n",
    "\n",
    "\n",
    "node_colors = [colors[node] for node in G.nodes()]\n",
    "\n",
    "\n",
    "edge_weights = [G[u][v]['weight'] for u, v in G.edges()]\n",
    "\n",
    "\n",
    "plt.figure(figsize=(10, 8))\n",
    "nx.draw(\n",
    "    G, pos, node_color=node_colors, with_labels=True, edge_color='gray', \n",
    "    node_size=800, font_size=8, font_weight='bold', width=edge_weights\n",
    ")\n",
    "\n",
    "\n",
    "edge_labels = {(u, v): f\"{G[u][v]['weight']}\" for u, v in G.edges()}\n",
    "nx.draw_networkx_edge_labels(G, pos, edge_labels=edge_labels, font_size=6)\n",
    "\n",
    "plt.title(\"Network Graph with Pentagram Center\")\n",
    "plt.savefig('network_graph.png')\n",
    "plt.show()\n",
    "\n"
   ]
  },
  {
   "cell_type": "markdown",
   "id": "63259365",
   "metadata": {},
   "source": [
    "### Output:\n",
    "![3. Network Graph](network_graph.png)"
   ]
  },
  {
   "cell_type": "markdown",
   "id": "5d0a41bd",
   "metadata": {},
   "source": [
    "## 4. Collated Image"
   ]
  },
  {
   "cell_type": "code",
   "execution_count": null,
   "id": "47dfadd3",
   "metadata": {},
   "outputs": [],
   "source": [
    "\n",
    "bar_img = Image.open(\"bar_chart.png\")  \n",
    "sankey_img = Image.open(\"sankey_diagram.png\")\n",
    "network_img = Image.open(\"network_graph.png\")\n",
    "\n",
    "\n",
    "network_width = int(network_img.width * 1.5)  \n",
    "network_height = int(network_img.height * 1.5)\n",
    "network_img = network_img.resize((network_width, network_height))\n",
    "\n",
    "bar_width = network_width // 3\n",
    "bar_height = network_height // 3\n",
    "bar_img = bar_img.resize((bar_width, bar_height))\n",
    "\n",
    "sankey_width = bar_width\n",
    "sankey_height = network_height - bar_height  \n",
    "sankey_img = sankey_img.resize((sankey_width, sankey_height))\n",
    "\n",
    "\n",
    "collated_width = network_width + bar_width\n",
    "collated_height = network_height\n",
    "collated_img = Image.new('RGB', (collated_width, collated_height), \"white\")\n",
    "\n",
    "\n",
    "collated_img.paste(bar_img, (0, 0))\n",
    "collated_img.paste(sankey_img, (0, bar_img.height))  \n",
    "collated_img.paste(network_img, (bar_width, 0))  \n",
    "\n",
    "collated_img.save(\"collated_graphs.png\")\n",
    "collated_img.show()\n"
   ]
  },
  {
   "cell_type": "markdown",
   "id": "51a394e1",
   "metadata": {},
   "source": [
    "### Output:\n",
    "![4. Collated Image](collated_graphs.png)"
   ]
  }
 ],
 "metadata": {
  "language_info": {
   "name": "python"
  }
 },
 "nbformat": 4,
 "nbformat_minor": 5
}
