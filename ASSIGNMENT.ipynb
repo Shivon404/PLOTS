{
 "cells": [
  {
   "cell_type": "markdown",
   "id": "cc0a9eed",
   "metadata": {},
   "source": [
    "## **PLOTS**\n",
    "\n",
    "Siobhan B. Leonor\n",
    "\n",
    "Heather M. Will"
   ]
  },
  {
   "cell_type": "code",
   "execution_count": null,
   "id": "7084c798",
   "metadata": {},
   "outputs": [],
   "source": [
    "import pandas as pd\n",
    "import matplotlib.pyplot as plt\n",
    "import plotly.graph_objects as go\n",
    "import networkx as nx\n",
    "import matplotlib.pyplot as plt\n",
    "from PIL import Image\n",
    "import numpy as np\n"
   ]
  },
  {
   "cell_type": "markdown",
   "id": "bf2e2d29",
   "metadata": {},
   "source": [
    "## 1. Bar Graph"
   ]
  },
  {
   "cell_type": "code",
   "execution_count": null,
   "id": "bfa8edb1",
   "metadata": {},
   "outputs": [],
   "source": [
    "bar_data = pd.read_csv('bar_assignment.csv')\n",
    "bar_data['COUNT'] = bar_data['COUNT'].map({1: 'Yes', 0: 'No'})\n",
    "bar_grouped = bar_data.groupby(['LABEL', 'COUNT']).size().unstack(fill_value=0)\n",
    "\n",
    "\n",
    "colors = {'Yes': 'blue', 'No': 'red'}\n",
    "bar_grouped.plot(kind='barh', stacked=True, color=[colors[col] for col in bar_grouped.columns])\n",
    "\n",
    "plt.xlabel('Count')\n",
    "plt.ylabel('Label')\n",
    "plt.title('Horizontal Stacked Bar Chart')\n",
    "plt.savefig('bar_chart.png')\n",
    "plt.show()"
   ]
  },
  {
   "cell_type": "markdown",
   "id": "ac92c39a",
   "metadata": {},
   "source": [
    "### Output:\n",
    "![1. Bar Graph](images/bar_chart.png)"
   ]
  },
  {
   "cell_type": "markdown",
   "id": "f6cdb7d6",
   "metadata": {},
   "source": [
    "## 2. Sankey Diagram"
   ]
  },
  {
   "cell_type": "code",
   "execution_count": null,
   "id": "6da3807c",
   "metadata": {},
   "outputs": [],
   "source": [
    "\n",
    "\n",
    "\n",
    "sankey_data = pd.read_csv('sankey_assignment.csv')\n",
    "df_prep = sankey_data.melt(id_vars=['LABEL'], var_name='source', value_name='value')\n",
    "df_prep.rename(columns={'LABEL': 'target'}, inplace=True)\n",
    "df_prep = df_prep[['source', 'target', 'value']]\n",
    "\n",
    "\n",
    "df_temp1 = df_prep[:40]\n",
    "df_temp2 = df_prep[40:]\n",
    "df_temp2 = df_temp2[['target', 'source', 'value']]\n",
    "df_temp2.rename(columns={'target': 'source', 'source': 'target'}, inplace=True)\n",
    "\n",
    "\n",
    "links = pd.concat([df_temp1, df_temp2], axis=0)\n",
    "unique_source_target = list(pd.unique(links[['source', 'target']].values.ravel('K')))\n",
    "mapping_dict = {k: v for v, k in enumerate(unique_source_target)}\n",
    "links['source'] = links['source'].map(mapping_dict)\n",
    "links['target'] = links['target'].map(mapping_dict)\n",
    "\n",
    "\n",
    "links_dict = links.to_dict(orient='list')\n",
    "\n",
    "\n",
    "hex_colors = [\"#1f77b4\", \"#ff7f0e\", \"#2ca02c\", \"#d62728\", \"#9467bd\", \"#8c564b\", \"#e377c2\"]\n",
    "node_colors = {node: hex_colors[i % len(hex_colors)] for i, node in enumerate(unique_source_target)}\n",
    "\n",
    "\n",
    "fig = go.Figure(data=[go.Sankey(\n",
    "   node=dict(\n",
    "        pad=15, thickness=20, line=dict(color='black', width=0.5),\n",
    "        label=unique_source_target,\n",
    "        color=[node_colors[node] for node in unique_source_target],\n",
    "   ),\n",
    "   link=dict(\n",
    "        source=links_dict['source'],\n",
    "        target=links_dict['target'],\n",
    "        value=links_dict['value'],\n",
    "        color=[node_colors[unique_source_target[src]] for src in links_dict['source']]\n",
    "   )\n",
    ")])\n",
    "\n",
    "fig.update_layout(title_text=\"Sankey Diagram with Dynamic Colors\", font_size=10)\n",
    "fig.write_image('sankey_diagram.png')\n",
    "fig.show()\n"
   ]
  },
  {
   "cell_type": "markdown",
   "id": "5d75077f",
   "metadata": {},
   "source": [
    "### Output:\n",
    "![2. Sankey Diagram](images/sankey_diagram.png)"
   ]
  },
  {
   "cell_type": "markdown",
   "id": "078b2a47",
   "metadata": {},
   "source": [
    "## 3. Network Graph"
   ]
  },
  {
   "cell_type": "code",
   "execution_count": null,
   "id": "423fedd0",
   "metadata": {},
   "outputs": [],
   "source": [
    "network_data = pd.read_csv('networks_assignment.csv')\n",
    "\n",
    "\n",
    "G = nx.Graph()\n",
    "\n",
    "\n",
    "nodes = network_data.columns[1:].tolist()\n",
    "G.add_nodes_from(nodes)\n",
    "\n",
    "\n",
    "for index, row in network_data.iterrows():\n",
    "    node = row['LABELS']\n",
    "    for target, value in row[1:].items():\n",
    "        if value > 0:\n",
    "            G.add_edge(node, target, weight=value)\n",
    "\n",
    "\n",
    "pentagon_nodes = ['D', 'F', 'I', 'N', 'S']\n",
    "angle = np.linspace(0, 2 * np.pi, len(pentagon_nodes), endpoint=False)\n",
    "pos = {node: (np.cos(a), np.sin(a)) for node, a in zip(pentagon_nodes, angle)}\n",
    "\n",
    "\n",
    "outer_radius = 2\n",
    "yellow_nodes = [node for node in nodes if node in [\n",
    "    'AUT', 'BEL', 'BGR', 'HRV', 'CZE', 'EST', 'FRA', 'DEU', 'GRC', 'HUN', 'IRL', 'ITA', 'LVA', 'LUX', 'NLD', 'PRT', 'ROU', 'SVK', 'SVN', 'ESP']]\n",
    "green_nodes = [node for node in nodes if node in [\n",
    "    'BIH', 'GEO', 'ISR', 'MNE', 'SRB', 'CHE', 'TUR', 'UKR', 'GBR', 'AUS', 'HKG', 'USA']]\n",
    "gray_nodes = [node for node in nodes if node in ['ASU']]\n",
    "\n",
    "\n",
    "outer_nodes = green_nodes + yellow_nodes + gray_nodes\n",
    "\n",
    "\n",
    "outer_angle = np.linspace(0, 2 * np.pi, len(outer_nodes), endpoint=False)\n",
    "\n",
    "\n",
    "pos.update({node: (outer_radius * np.cos(a), outer_radius * np.sin(a)) for node, a in zip(outer_nodes, outer_angle)})\n",
    "\n",
    "\n",
    "color_map = {\n",
    "    'D': 'blue', 'F': 'blue', 'I': 'blue', 'N': 'blue', 'S': 'blue',\n",
    "    'BIH': 'green', 'GEO': 'green', 'ISR': 'green', 'MNE': 'green', 'SRB': 'green', 'CHE': 'green', 'TUR': 'green', 'UKR': 'green', 'GBR': 'green', 'AUS': 'green', 'HKG': 'green', 'USA': 'green',\n",
    "    'AUT': 'yellow', 'BEL': 'yellow', 'BGR': 'yellow', 'HRV': 'yellow', 'CZE': 'yellow', 'EST': 'yellow', 'FRA': 'yellow', 'DEU': 'yellow', 'GRC': 'yellow', 'HUN': 'yellow', 'IRL': 'yellow', 'ITA': 'yellow', 'LVA': 'yellow', 'LUX': 'yellow', 'NLD': 'yellow', 'PRT': 'yellow', 'ROU': 'yellow', 'SVK': 'yellow', 'SVN': 'yellow', 'ESP': 'yellow',\n",
    "    'ASU': 'gray'\n",
    "}\n",
    "node_colors = [color_map.get(node, 'gray') for node in G.nodes()]\n",
    "\n",
    "\n",
    "display_nodes = pentagon_nodes + outer_nodes\n",
    "display_edges = [(u, v) for u, v, d in G.edges(data=True) if u in display_nodes and v in display_nodes]\n",
    "\n",
    "\n",
    "H = G.edge_subgraph(display_edges).copy()\n",
    "\n",
    "\n",
    "subgraph_pos = {node: pos[node] for node in H.nodes()}\n",
    "subgraph_colors = [color_map[node] for node in H.nodes()]\n",
    "\n",
    "\n",
    "edge_colors = []\n",
    "for u, v in H.edges():\n",
    "    if v in yellow_nodes:\n",
    "        edge_colors.append('yellow')\n",
    "    elif v in green_nodes:\n",
    "        edge_colors.append('green')\n",
    "    elif v in gray_nodes:\n",
    "        edge_colors.append('gray')\n",
    "    else:\n",
    "        edge_colors.append('blue')\n",
    "\n",
    "\n",
    "plt.figure(figsize=(10, 8))\n",
    "nx.draw(H, subgraph_pos, with_labels=True, node_color=subgraph_colors, node_size=800, font_size=8, font_weight='bold', edge_color=edge_colors, width=2)\n",
    "\n",
    "\n",
    "edge_labels = {(u, v): f\"{G[u][v]['weight']}\" for u, v in H.edges()}\n",
    "nx.draw_networkx_edge_labels(H, subgraph_pos, edge_labels=edge_labels, font_size=6)\n",
    "\n",
    "plt.title(\"Network Graph\", fontweight='bold')\n",
    "plt.savefig('network_graph.png')\n",
    "plt.show()\n",
    "\n"
   ]
  },
  {
   "cell_type": "markdown",
   "id": "63259365",
   "metadata": {},
   "source": [
    "### Output:\n",
    "![3. Network Graph](images/network_graph.png)"
   ]
  },
  {
   "cell_type": "markdown",
   "id": "5d0a41bd",
   "metadata": {},
   "source": [
    "## 4. Collated Image"
   ]
  },
  {
   "cell_type": "code",
   "execution_count": null,
   "id": "47dfadd3",
   "metadata": {},
   "outputs": [],
   "source": [
    "\n",
    "bar_img = Image.open(\"bar_chart.png\")  \n",
    "sankey_img = Image.open(\"sankey_diagram.png\")\n",
    "network_img = Image.open(\"network_graph.png\")\n",
    "\n",
    "\n",
    "network_width = int(network_img.width * 1.5)  \n",
    "network_height = int(network_img.height * 1.5)\n",
    "network_img = network_img.resize((network_width, network_height))\n",
    "\n",
    "bar_width = network_width // 3\n",
    "bar_height = network_height // 3\n",
    "bar_img = bar_img.resize((bar_width, bar_height))\n",
    "\n",
    "sankey_width = bar_width\n",
    "sankey_height = network_height - bar_height  \n",
    "sankey_img = sankey_img.resize((sankey_width, sankey_height))\n",
    "\n",
    "\n",
    "collated_width = network_width + bar_width\n",
    "collated_height = network_height\n",
    "collated_img = Image.new('RGB', (collated_width, collated_height), \"white\")\n",
    "\n",
    "\n",
    "collated_img.paste(bar_img, (0, 0))\n",
    "collated_img.paste(sankey_img, (0, bar_img.height))  \n",
    "collated_img.paste(network_img, (bar_width, 0))  \n",
    "\n",
    "collated_img.save(\"collated_graphs.png\")\n",
    "collated_img.show()\n"
   ]
  },
  {
   "cell_type": "markdown",
   "id": "51a394e1",
   "metadata": {},
   "source": [
    "### Output:\n",
    "![4. Collated Image](images/collated_graphs.png)"
   ]
  }
 ],
 "metadata": {
  "language_info": {
   "name": "python"
  }
 },
 "nbformat": 4,
 "nbformat_minor": 5
}
